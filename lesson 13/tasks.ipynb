{
 "cells": [
  {
   "cell_type": "code",
   "execution_count": 1,
   "id": "be9f94ea-a31a-4c3e-8939-0c1588dc2463",
   "metadata": {},
   "outputs": [],
   "source": [
    "import codecs\n",
    "import numpy as np\n",
    "import gensim\n",
    "import pandas as pd\n",
    "from scipy import stats as st"
   ]
  },
  {
   "cell_type": "markdown",
   "id": "585789be-2e1b-41f3-9470-91543acff45f",
   "metadata": {},
   "source": [
    "### Task 1"
   ]
  },
  {
   "cell_type": "code",
   "execution_count": 36,
   "id": "de5ccac7-3cb1-4aa8-9cda-0f3b4ce750c1",
   "metadata": {},
   "outputs": [
    {
     "name": "stdout",
     "output_type": "stream",
     "text": [
      "4937 предложений\n"
     ]
    }
   ],
   "source": [
    "with codecs.open('sapiens.txt', encoding='utf-8', mode='r') as f:    \n",
    "    docs = f.readlines()\n",
    "\n",
    "sentences = [[word for word in sent.lower().split()] for sent in docs]\n",
    "print(len(sentences), 'предложений')"
   ]
  },
  {
   "cell_type": "code",
   "execution_count": 37,
   "id": "9c72cb66-06bd-4067-804e-4ff9cb482d90",
   "metadata": {},
   "outputs": [],
   "source": [
    "word_model = gensim.models.Word2Vec(sentences, vector_size=100, min_count=1, window=5, epochs=100)"
   ]
  },
  {
   "cell_type": "code",
   "execution_count": 38,
   "id": "50977093-d7d0-4f2f-94b8-f5b2dea7f909",
   "metadata": {},
   "outputs": [
    {
     "name": "stdout",
     "output_type": "stream",
     "text": [
      "13572 100\n"
     ]
    }
   ],
   "source": [
    "pretrained_weights = word_model.wv.vectors\n",
    "vocab_size, embedding_size = pretrained_weights.shape\n",
    "print(vocab_size, embedding_size)"
   ]
  },
  {
   "cell_type": "code",
   "execution_count": 39,
   "id": "28b597e1-243c-4672-88a4-bafaed12cef9",
   "metadata": {},
   "outputs": [
    {
     "name": "stdout",
     "output_type": "stream",
     "text": [
      "Похожие слова:\n",
      "  god -> evil (0.63), gods (0.53), existence (0.46), supreme (0.43), devil (0.42), war (0.40), soul (0.39), good (0.38)\n",
      "  human -> unalienable (0.37), animal (0.35), nature (0.34), sapiens (0.33), link (0.32), inalienable (0.31), direct (0.30), process (0.30)\n",
      "  evolution -> reproduction (0.48), nature (0.46), mice (0.46), humanism (0.46), strategies (0.44), interaction (0.43), inner (0.43), processes (0.43)\n",
      "  sapiens -> soloensis (0.68), genus (0.59), erectus (0.55), encephalization (0.51), neanderthalensis (0.50), denisova (0.48), neanderthals (0.46), rudolfensis (0.45)\n",
      "  weed -> tally (0.68), nutritious (0.59), gouge (0.58), broke (0.55), wayward (0.54), wilds (0.54), wiped (0.52), pouring (0.52)\n",
      "  humankind -> ever (0.40), ecosystem (0.39), brooded (0.39), fate (0.37), definition (0.37), animals (0.35), latter (0.35), unification (0.34)\n",
      "  species -> animals (0.50), neanderthals (0.50), homo (0.43), genus (0.41), sapiens (0.41), genes (0.41), populations (0.40), bands (0.39)\n"
     ]
    }
   ],
   "source": [
    "print('Похожие слова:')\n",
    "for word in ['god', 'human', 'evolution', 'sapiens', 'weed', 'humankind', 'species']:\n",
    "    most_similar = ', '.join('%s (%.2f)' % (similar, dist) for similar, dist in word_model.wv.most_similar(word)[:8])\n",
    "    print('  %s -> %s' % (word, most_similar))"
   ]
  },
  {
   "cell_type": "markdown",
   "id": "a7325dd8-219b-46bf-add9-a25a89e7daa3",
   "metadata": {},
   "source": [
    "### Task 2 "
   ]
  },
  {
   "cell_type": "code",
   "execution_count": 2,
   "id": "fa862208-2966-4369-873c-2cfcde796fd2",
   "metadata": {},
   "outputs": [
    {
     "data": {
      "text/html": [
       "<div>\n",
       "<style scoped>\n",
       "    .dataframe tbody tr th:only-of-type {\n",
       "        vertical-align: middle;\n",
       "    }\n",
       "\n",
       "    .dataframe tbody tr th {\n",
       "        vertical-align: top;\n",
       "    }\n",
       "\n",
       "    .dataframe thead th {\n",
       "        text-align: right;\n",
       "    }\n",
       "</style>\n",
       "<table border=\"1\" class=\"dataframe\">\n",
       "  <thead>\n",
       "    <tr style=\"text-align: right;\">\n",
       "      <th></th>\n",
       "      <th>API</th>\n",
       "      <th>Year</th>\n",
       "      <th>Month</th>\n",
       "      <th>Liquid</th>\n",
       "      <th>Gas</th>\n",
       "      <th>RatioGasOil</th>\n",
       "      <th>Water</th>\n",
       "      <th>PercentWater</th>\n",
       "      <th>DaysOn</th>\n",
       "      <th>_LastUpdate</th>\n",
       "    </tr>\n",
       "  </thead>\n",
       "  <tbody>\n",
       "    <tr>\n",
       "      <th>0</th>\n",
       "      <td>5005072170100</td>\n",
       "      <td>2014</td>\n",
       "      <td>11</td>\n",
       "      <td>9783</td>\n",
       "      <td>11470</td>\n",
       "      <td>1.172442</td>\n",
       "      <td>10558</td>\n",
       "      <td>1.079219</td>\n",
       "      <td>14</td>\n",
       "      <td>2016-04-06 17:20:05.757</td>\n",
       "    </tr>\n",
       "    <tr>\n",
       "      <th>1</th>\n",
       "      <td>5005072170100</td>\n",
       "      <td>2014</td>\n",
       "      <td>12</td>\n",
       "      <td>24206</td>\n",
       "      <td>26476</td>\n",
       "      <td>1.093778</td>\n",
       "      <td>5719</td>\n",
       "      <td>0.236264</td>\n",
       "      <td>31</td>\n",
       "      <td>2016-04-06 17:20:05.757</td>\n",
       "    </tr>\n",
       "    <tr>\n",
       "      <th>2</th>\n",
       "      <td>5005072170100</td>\n",
       "      <td>2015</td>\n",
       "      <td>1</td>\n",
       "      <td>20449</td>\n",
       "      <td>26381</td>\n",
       "      <td>1.290088</td>\n",
       "      <td>2196</td>\n",
       "      <td>0.107389</td>\n",
       "      <td>31</td>\n",
       "      <td>2016-04-06 17:20:05.757</td>\n",
       "    </tr>\n",
       "    <tr>\n",
       "      <th>3</th>\n",
       "      <td>5005072170100</td>\n",
       "      <td>2015</td>\n",
       "      <td>2</td>\n",
       "      <td>6820</td>\n",
       "      <td>10390</td>\n",
       "      <td>1.523460</td>\n",
       "      <td>583</td>\n",
       "      <td>0.085484</td>\n",
       "      <td>28</td>\n",
       "      <td>2016-04-06 17:20:05.757</td>\n",
       "    </tr>\n",
       "    <tr>\n",
       "      <th>4</th>\n",
       "      <td>5005072170100</td>\n",
       "      <td>2015</td>\n",
       "      <td>3</td>\n",
       "      <td>7349</td>\n",
       "      <td>7005</td>\n",
       "      <td>0.953191</td>\n",
       "      <td>122</td>\n",
       "      <td>0.016601</td>\n",
       "      <td>13</td>\n",
       "      <td>2016-06-16 14:07:33.203</td>\n",
       "    </tr>\n",
       "  </tbody>\n",
       "</table>\n",
       "</div>"
      ],
      "text/plain": [
       "             API  Year  Month  Liquid    Gas  RatioGasOil  Water  \\\n",
       "0  5005072170100  2014     11    9783  11470     1.172442  10558   \n",
       "1  5005072170100  2014     12   24206  26476     1.093778   5719   \n",
       "2  5005072170100  2015      1   20449  26381     1.290088   2196   \n",
       "3  5005072170100  2015      2    6820  10390     1.523460    583   \n",
       "4  5005072170100  2015      3    7349   7005     0.953191    122   \n",
       "\n",
       "   PercentWater  DaysOn              _LastUpdate  \n",
       "0      1.079219      14  2016-04-06 17:20:05.757  \n",
       "1      0.236264      31  2016-04-06 17:20:05.757  \n",
       "2      0.107389      31  2016-04-06 17:20:05.757  \n",
       "3      0.085484      28  2016-04-06 17:20:05.757  \n",
       "4      0.016601      13  2016-06-16 14:07:33.203  "
      ]
     },
     "execution_count": 2,
     "metadata": {},
     "output_type": "execute_result"
    }
   ],
   "source": [
    "import torch\n",
    "import torch.nn as nn\n",
    "import torch.nn.functional as F\n",
    "import torch.optim as optim\n",
    "from torch.utils.data import TensorDataset, DataLoader\n",
    "\n",
    "df = pd.read_csv('production.csv')\n",
    "df.head()"
   ]
  },
  {
   "cell_type": "code",
   "execution_count": 3,
   "id": "db7a9e6e-84af-40c7-bea1-18389dbe24cd",
   "metadata": {},
   "outputs": [
    {
     "data": {
      "text/html": [
       "<div>\n",
       "<style scoped>\n",
       "    .dataframe tbody tr th:only-of-type {\n",
       "        vertical-align: middle;\n",
       "    }\n",
       "\n",
       "    .dataframe tbody tr th {\n",
       "        vertical-align: top;\n",
       "    }\n",
       "\n",
       "    .dataframe thead th {\n",
       "        text-align: right;\n",
       "    }\n",
       "</style>\n",
       "<table border=\"1\" class=\"dataframe\">\n",
       "  <thead>\n",
       "    <tr style=\"text-align: right;\">\n",
       "      <th></th>\n",
       "      <th></th>\n",
       "      <th>Liquid</th>\n",
       "      <th>Gas</th>\n",
       "      <th>Water</th>\n",
       "    </tr>\n",
       "    <tr>\n",
       "      <th>API</th>\n",
       "      <th></th>\n",
       "      <th></th>\n",
       "      <th></th>\n",
       "      <th></th>\n",
       "    </tr>\n",
       "  </thead>\n",
       "  <tbody>\n",
       "    <tr>\n",
       "      <th rowspan=\"5\" valign=\"top\">5005072170100</th>\n",
       "      <th>0</th>\n",
       "      <td>9783</td>\n",
       "      <td>11470</td>\n",
       "      <td>10558</td>\n",
       "    </tr>\n",
       "    <tr>\n",
       "      <th>1</th>\n",
       "      <td>24206</td>\n",
       "      <td>26476</td>\n",
       "      <td>5719</td>\n",
       "    </tr>\n",
       "    <tr>\n",
       "      <th>2</th>\n",
       "      <td>20449</td>\n",
       "      <td>26381</td>\n",
       "      <td>2196</td>\n",
       "    </tr>\n",
       "    <tr>\n",
       "      <th>3</th>\n",
       "      <td>6820</td>\n",
       "      <td>10390</td>\n",
       "      <td>583</td>\n",
       "    </tr>\n",
       "    <tr>\n",
       "      <th>4</th>\n",
       "      <td>7349</td>\n",
       "      <td>7005</td>\n",
       "      <td>122</td>\n",
       "    </tr>\n",
       "  </tbody>\n",
       "</table>\n",
       "</div>"
      ],
      "text/plain": [
       "                 Liquid    Gas  Water\n",
       "API                                  \n",
       "5005072170100 0    9783  11470  10558\n",
       "              1   24206  26476   5719\n",
       "              2   20449  26381   2196\n",
       "              3    6820  10390    583\n",
       "              4    7349   7005    122"
      ]
     },
     "execution_count": 3,
     "metadata": {},
     "output_type": "execute_result"
    }
   ],
   "source": [
    "liquid = df.groupby(['API'])[['Liquid','Gas','Water']].apply(lambda df_: df_.reset_index(drop=True))\n",
    "liquid.head()"
   ]
  },
  {
   "cell_type": "code",
   "execution_count": 4,
   "id": "da7215aa-d4b5-451f-a0cc-d87c3be10d58",
   "metadata": {},
   "outputs": [],
   "source": [
    "liquid['Liquid'] = liquid['Liquid'] / liquid['Liquid'].max()\n",
    "liquid['Gas'] = liquid['Gas'] / liquid['Gas'].max()\n",
    "liquid['Water'] = liquid['Water'] / liquid['Water'].max()"
   ]
  },
  {
   "cell_type": "code",
   "execution_count": 5,
   "id": "54eeb826-1b06-46fb-a57a-c09247bf424f",
   "metadata": {},
   "outputs": [
    {
     "data": {
      "text/plain": [
       "Liquid    0.231031\n",
       "Gas       0.104021\n",
       "Water     0.055490\n",
       "Name: (5005072170100, 0), dtype: float64"
      ]
     },
     "execution_count": 5,
     "metadata": {},
     "output_type": "execute_result"
    }
   ],
   "source": [
    "liquid.iloc[0]"
   ]
  },
  {
   "cell_type": "code",
   "execution_count": 6,
   "id": "7dd4ce95-cb3a-4644-afc6-2a3533f19675",
   "metadata": {},
   "outputs": [],
   "source": [
    "#model(torch.tensor(liquid.iloc[0].to_numpy().reshape(1,1,3).astype(np.float32)))"
   ]
  },
  {
   "cell_type": "code",
   "execution_count": 7,
   "id": "14fd103b-119d-4377-ae90-ccf5df82e61e",
   "metadata": {},
   "outputs": [],
   "source": [
    "data = liquid.to_numpy()\n",
    "data = data.reshape((50,24,3))"
   ]
  },
  {
   "cell_type": "code",
   "execution_count": 8,
   "id": "6d31dfe4-5066-4201-bc63-0f4b5bcd7020",
   "metadata": {},
   "outputs": [
    {
     "data": {
      "text/plain": [
       "array([[[2.31030818e-01, 1.04021185e-01, 5.54901507e-02],\n",
       "        [5.71637738e-01, 2.40110279e-01, 3.00576030e-02],\n",
       "        [4.82914158e-01, 2.39248726e-01, 1.15416150e-02],\n",
       "        ...,\n",
       "        [1.12811430e-01, 1.15402753e-01, 1.12998507e-03],\n",
       "        [9.08962097e-02, 1.15937823e-01, 1.01961444e-03],\n",
       "        [9.05655922e-02, 1.02307148e-01, 9.88079971e-04]],\n",
       "\n",
       "       [[5.52839769e-02, 5.16024885e-03, 7.35804234e-05],\n",
       "        [1.10733262e-01, 7.83378376e-02, 1.44795762e-02],\n",
       "        [7.21690873e-02, 1.08655433e-01, 3.72632287e-03],\n",
       "        ...,\n",
       "        [1.72865746e-02, 3.88424356e-02, 5.72876154e-04],\n",
       "        [1.32010863e-02, 2.63453830e-02, 5.93899132e-04],\n",
       "        [1.49486362e-02, 2.94651116e-02, 2.89065949e-04]],\n",
       "\n",
       "       [[1.49391900e-01, 3.58587416e-02, 3.26591965e-02],\n",
       "        [1.51257527e-01, 3.93865743e-02, 2.28624887e-03],\n",
       "        [1.61506671e-01, 1.44840658e-01, 5.64466962e-03],\n",
       "        ...,\n",
       "        [3.25422128e-02, 3.84343315e-02, 1.06166039e-03],\n",
       "        [2.91651907e-02, 3.55866722e-02, 9.56545504e-04],\n",
       "        [3.14322824e-02, 3.72462953e-02, 1.09319486e-03]],\n",
       "\n",
       "       ...,\n",
       "\n",
       "       [[2.13366395e-01, 3.46906571e-01, 3.51640843e-01],\n",
       "        [4.54858897e-01, 9.86532567e-01, 1.00000000e+00],\n",
       "        [3.45778722e-01, 5.26708142e-01, 5.33899552e-01],\n",
       "        ...,\n",
       "        [9.42496162e-02, 2.36872653e-01, 7.46525953e-02],\n",
       "        [8.13319164e-02, 1.62996753e-01, 0.00000000e+00],\n",
       "        [6.11406305e-02, 1.34964540e-01, 0.00000000e+00]],\n",
       "\n",
       "       [[3.35175345e-01, 2.75343261e-01, 1.09135535e-01],\n",
       "        [2.28055260e-01, 3.16371320e-01, 8.34717346e-02],\n",
       "        [1.84106742e-01, 2.62465311e-01, 6.49294679e-02],\n",
       "        ...,\n",
       "        [3.72180895e-02, 1.37340613e-01, 8.22524019e-03],\n",
       "        [3.50926910e-02, 1.27401012e-01, 7.33176362e-03],\n",
       "        [3.36285276e-02, 1.23882248e-01, 6.50135598e-03]],\n",
       "\n",
       "       [[4.20356595e-02, 0.00000000e+00, 0.00000000e+00],\n",
       "        [1.50194828e-01, 2.06863403e-02, 1.25612294e-03],\n",
       "        [1.83587200e-01, 2.83768342e-02, 3.58967351e-02],\n",
       "        ...,\n",
       "        [3.40772228e-02, 8.11673589e-03, 3.25856161e-03],\n",
       "        [3.90601015e-02, 8.96015091e-03, 4.24664158e-03],\n",
       "        [3.13614358e-02, 7.50004534e-03, 3.03256459e-03]]])"
      ]
     },
     "execution_count": 8,
     "metadata": {},
     "output_type": "execute_result"
    }
   ],
   "source": [
    "data"
   ]
  },
  {
   "cell_type": "code",
   "execution_count": 9,
   "id": "3fcb443a-5150-43d6-9c36-ef2e01fbcfd3",
   "metadata": {},
   "outputs": [
    {
     "name": "stdout",
     "output_type": "stream",
     "text": [
      "(40, 24, 3) (10, 24, 3)\n"
     ]
    }
   ],
   "source": [
    "data_tr = data[:40]\n",
    "data_tst = data[40:]\n",
    "print(data_tr.shape, data_tst.shape)"
   ]
  },
  {
   "cell_type": "code",
   "execution_count": 10,
   "id": "ac3183ca-4316-4f1e-91e0-791d1b71a2ab",
   "metadata": {},
   "outputs": [
    {
     "name": "stdout",
     "output_type": "stream",
     "text": [
      "(440, 12, 3) (440, 12, 3)\n"
     ]
    }
   ],
   "source": [
    "x_data = [data_tr[:, i:i+12] for i in range(11)]\n",
    "y_data = [data_tr[:, i+1:i+13] for i in range(11)]\n",
    "\n",
    "x_data = np.concatenate(x_data, axis=0)\n",
    "y_data = np.concatenate(y_data, axis=0)\n",
    "print(x_data.shape, y_data.shape)"
   ]
  },
  {
   "cell_type": "code",
   "execution_count": 11,
   "id": "d6ac508c-229b-4c6e-b6be-15b393a810b1",
   "metadata": {},
   "outputs": [],
   "source": [
    "tensor_x = torch.Tensor(x_data) # transform to torch tensor\n",
    "tensor_y = torch.Tensor(y_data)\n",
    "\n",
    "oil_dataset = TensorDataset(tensor_x,tensor_y) # create your datset\n",
    "oil_dataloader = DataLoader(oil_dataset, batch_size=16) # create your dataloader"
   ]
  },
  {
   "cell_type": "code",
   "execution_count": 12,
   "id": "0de41a52-4a59-4884-9c5a-0314173fb17f",
   "metadata": {},
   "outputs": [
    {
     "data": {
      "text/plain": [
       "(torch.Size([16, 12, 3]), torch.Size([16, 12, 3]))"
      ]
     },
     "execution_count": 12,
     "metadata": {},
     "output_type": "execute_result"
    }
   ],
   "source": [
    "for x_t, y_t in oil_dataloader:\n",
    "    break\n",
    "x_t.shape, y_t.shape"
   ]
  },
  {
   "cell_type": "code",
   "execution_count": 13,
   "id": "773162d0-85bd-43b5-aa4b-51183bd96a81",
   "metadata": {},
   "outputs": [],
   "source": [
    "class OilModel(nn.Module):\n",
    "    def __init__(self, timesteps=12, units=32):\n",
    "        super().__init__()\n",
    "        self.lstm1 = nn.LSTM(3, units, 2, batch_first=True)\n",
    "        self.dense = nn.Linear(units, 3)\n",
    "        self.relu = nn.ReLU()\n",
    "        \n",
    "    def forward(self, x):\n",
    "        h, _ = self.lstm1(x)\n",
    "        outs = []\n",
    "        for i in range(h.shape[0]):\n",
    "            outs.append(self.relu(self.dense(h[i])))\n",
    "        #print(outs)\n",
    "        out = torch.stack(outs, dim=0)\n",
    "        return out"
   ]
  },
  {
   "cell_type": "code",
   "execution_count": 14,
   "id": "9f25d3eb-8e82-4f75-9d11-9b2c46cd2435",
   "metadata": {},
   "outputs": [],
   "source": [
    "model = OilModel()\n",
    "opt = optim.Adam(model.parameters())\n",
    "criterion = nn.MSELoss()"
   ]
  },
  {
   "cell_type": "code",
   "execution_count": 15,
   "id": "906e6bba-671a-4aa8-a0ac-a1374a36a755",
   "metadata": {},
   "outputs": [
    {
     "name": "stdout",
     "output_type": "stream",
     "text": [
      "[Epoch:  1] loss: 0.015\n",
      "[Epoch:  2] loss: 0.013\n",
      "[Epoch:  3] loss: 0.013\n",
      "[Epoch:  4] loss: 0.013\n",
      "[Epoch:  5] loss: 0.012\n",
      "[Epoch:  6] loss: 0.012\n",
      "[Epoch:  7] loss: 0.012\n",
      "[Epoch:  8] loss: 0.012\n",
      "[Epoch:  9] loss: 0.011\n",
      "[Epoch: 10] loss: 0.011\n",
      "[Epoch: 11] loss: 0.011\n",
      "[Epoch: 12] loss: 0.011\n",
      "[Epoch: 13] loss: 0.011\n",
      "[Epoch: 14] loss: 0.011\n",
      "[Epoch: 15] loss: 0.011\n",
      "[Epoch: 16] loss: 0.011\n",
      "[Epoch: 17] loss: 0.011\n",
      "[Epoch: 18] loss: 0.011\n",
      "[Epoch: 19] loss: 0.011\n",
      "[Epoch: 20] loss: 0.011\n",
      "[Epoch: 21] loss: 0.011\n",
      "[Epoch: 22] loss: 0.011\n",
      "[Epoch: 23] loss: 0.011\n",
      "[Epoch: 24] loss: 0.011\n",
      "[Epoch: 25] loss: 0.011\n",
      "[Epoch: 26] loss: 0.011\n",
      "[Epoch: 27] loss: 0.011\n",
      "[Epoch: 28] loss: 0.011\n",
      "[Epoch: 29] loss: 0.011\n",
      "[Epoch: 30] loss: 0.011\n",
      "[Epoch: 31] loss: 0.011\n",
      "[Epoch: 32] loss: 0.010\n",
      "[Epoch: 33] loss: 0.010\n",
      "[Epoch: 34] loss: 0.010\n",
      "[Epoch: 35] loss: 0.010\n",
      "[Epoch: 36] loss: 0.010\n",
      "[Epoch: 37] loss: 0.010\n",
      "[Epoch: 38] loss: 0.010\n",
      "[Epoch: 39] loss: 0.010\n",
      "[Epoch: 40] loss: 0.010\n",
      "[Epoch: 41] loss: 0.010\n",
      "[Epoch: 42] loss: 0.010\n",
      "[Epoch: 43] loss: 0.010\n",
      "[Epoch: 44] loss: 0.010\n",
      "[Epoch: 45] loss: 0.010\n",
      "[Epoch: 46] loss: 0.010\n",
      "[Epoch: 47] loss: 0.010\n",
      "[Epoch: 48] loss: 0.010\n",
      "[Epoch: 49] loss: 0.010\n",
      "[Epoch: 50] loss: 0.010\n",
      "[Epoch: 51] loss: 0.010\n",
      "[Epoch: 52] loss: 0.010\n",
      "[Epoch: 53] loss: 0.010\n",
      "[Epoch: 54] loss: 0.010\n",
      "[Epoch: 55] loss: 0.010\n",
      "[Epoch: 56] loss: 0.008\n",
      "[Epoch: 57] loss: 0.004\n",
      "[Epoch: 58] loss: 0.003\n",
      "[Epoch: 59] loss: 0.003\n",
      "[Epoch: 60] loss: 0.003\n",
      "[Epoch: 61] loss: 0.003\n",
      "[Epoch: 62] loss: 0.002\n",
      "[Epoch: 63] loss: 0.002\n",
      "[Epoch: 64] loss: 0.002\n",
      "[Epoch: 65] loss: 0.002\n",
      "[Epoch: 66] loss: 0.002\n",
      "[Epoch: 67] loss: 0.002\n",
      "[Epoch: 68] loss: 0.002\n",
      "[Epoch: 69] loss: 0.002\n",
      "[Epoch: 70] loss: 0.002\n",
      "[Epoch: 71] loss: 0.002\n",
      "[Epoch: 72] loss: 0.002\n",
      "[Epoch: 73] loss: 0.002\n",
      "[Epoch: 74] loss: 0.002\n",
      "[Epoch: 75] loss: 0.002\n",
      "[Epoch: 76] loss: 0.002\n",
      "[Epoch: 77] loss: 0.002\n",
      "[Epoch: 78] loss: 0.002\n",
      "[Epoch: 79] loss: 0.002\n",
      "[Epoch: 80] loss: 0.002\n",
      "Finished Training\n"
     ]
    }
   ],
   "source": [
    "NUM_EPOCHS = 80\n",
    "\n",
    "for epoch in range(NUM_EPOCHS):  # loop over the dataset multiple times\n",
    "\n",
    "    running_loss = 0.0\n",
    "    num = 0\n",
    "    for x_t, y_t in oil_dataloader:\n",
    "        # zero the parameter gradients\n",
    "        opt.zero_grad()\n",
    "\n",
    "        # forward + backward + optimize\n",
    "        outputs = model(x_t)\n",
    "        loss = criterion(outputs, y_t)\n",
    "        loss.backward()\n",
    "        opt.step()\n",
    "\n",
    "        # print statistics\n",
    "        running_loss += loss.item()\n",
    "        num += 1\n",
    "        \n",
    "    print(f'[Epoch: {epoch + 1:2d}] loss: {running_loss / num:.3f}')\n",
    "print('Finished Training')"
   ]
  },
  {
   "cell_type": "code",
   "execution_count": 16,
   "id": "42481646-3407-4c6a-a3b0-338627d39f68",
   "metadata": {},
   "outputs": [
    {
     "data": {
      "text/plain": [
       "array([[[1.00399442e-01, 3.34012836e-01, 0.00000000e+00],\n",
       "        [1.08615153e-01, 3.51219863e-01, 0.00000000e+00],\n",
       "        [1.06736556e-01, 3.53947908e-01, 0.00000000e+00],\n",
       "        [1.04382440e-01, 3.70694399e-01, 0.00000000e+00],\n",
       "        [1.06577486e-01, 3.99240494e-01, 0.00000000e+00],\n",
       "        [1.09989785e-01, 4.27438587e-01, 0.00000000e+00],\n",
       "        [1.10499464e-01, 4.49273497e-01, 0.00000000e+00],\n",
       "        [1.05124712e-01, 4.54572558e-01, 0.00000000e+00],\n",
       "        [9.71535593e-02, 4.43393767e-01, 0.00000000e+00],\n",
       "        [9.05795097e-02, 4.26133841e-01, 0.00000000e+00],\n",
       "        [8.79329592e-02, 4.11247969e-01, 0.00000000e+00],\n",
       "        [8.81306306e-02, 3.99420351e-01, 0.00000000e+00]],\n",
       "\n",
       "       [[3.25642377e-02, 1.11439243e-01, 2.48569995e-04],\n",
       "        [3.03762704e-02, 1.17683396e-01, 0.00000000e+00],\n",
       "        [2.48457268e-02, 1.14308968e-01, 0.00000000e+00],\n",
       "        [2.03249604e-02, 1.09892398e-01, 0.00000000e+00],\n",
       "        [1.73882544e-02, 1.03381947e-01, 0.00000000e+00],\n",
       "        [1.52911991e-02, 9.65242386e-02, 0.00000000e+00],\n",
       "        [1.37808025e-02, 9.00617689e-02, 0.00000000e+00],\n",
       "        [1.27727911e-02, 8.42270404e-02, 0.00000000e+00],\n",
       "        [1.22890696e-02, 7.97070861e-02, 0.00000000e+00],\n",
       "        [1.22545362e-02, 7.66589791e-02, 0.00000000e+00],\n",
       "        [1.24174505e-02, 7.41069764e-02, 0.00000000e+00],\n",
       "        [1.26530379e-02, 7.18231872e-02, 0.00000000e+00]],\n",
       "\n",
       "       [[3.67270187e-02, 2.47024551e-01, 1.28885061e-02],\n",
       "        [4.60112691e-02, 2.64917850e-01, 1.11393519e-02],\n",
       "        [6.47717342e-02, 2.99694091e-01, 6.45599887e-03],\n",
       "        [7.36451745e-02, 3.27578187e-01, 0.00000000e+00],\n",
       "        [7.48657212e-02, 3.54305714e-01, 0.00000000e+00],\n",
       "        [7.69996494e-02, 3.82587850e-01, 0.00000000e+00],\n",
       "        [7.22320601e-02, 3.92187804e-01, 0.00000000e+00],\n",
       "        [6.73373118e-02, 3.91437680e-01, 0.00000000e+00],\n",
       "        [6.55059814e-02, 3.90856892e-01, 0.00000000e+00],\n",
       "        [6.70411289e-02, 3.92508656e-01, 0.00000000e+00],\n",
       "        [6.74667358e-02, 3.87973040e-01, 0.00000000e+00],\n",
       "        [6.84036613e-02, 3.82597089e-01, 0.00000000e+00]],\n",
       "\n",
       "       [[4.98471186e-02, 6.60065114e-02, 1.34259388e-02],\n",
       "        [4.82261553e-02, 6.59426674e-02, 1.03653371e-02],\n",
       "        [4.28074747e-02, 6.31395727e-02, 7.93207437e-03],\n",
       "        [3.96545753e-02, 5.88222444e-02, 5.74388728e-03],\n",
       "        [3.82627025e-02, 5.46104982e-02, 3.99284437e-03],\n",
       "        [3.74943987e-02, 5.18101826e-02, 2.62055919e-03],\n",
       "        [3.66065875e-02, 4.91183847e-02, 1.34142861e-03],\n",
       "        [3.54954079e-02, 4.67272624e-02, 1.75610185e-04],\n",
       "        [3.44229937e-02, 4.48069721e-02, 0.00000000e+00],\n",
       "        [3.34779993e-02, 4.31617498e-02, 0.00000000e+00],\n",
       "        [3.24920863e-02, 4.13608477e-02, 0.00000000e+00],\n",
       "        [3.15565169e-02, 3.96607071e-02, 0.00000000e+00]],\n",
       "\n",
       "       [[1.09476492e-01, 3.84371579e-02, 5.65791018e-02],\n",
       "        [1.08193845e-01, 4.25117314e-02, 5.31771742e-02],\n",
       "        [1.02910176e-01, 4.24356312e-02, 4.97924909e-02],\n",
       "        [9.73464027e-02, 4.19747829e-02, 4.66224030e-02],\n",
       "        [9.30625126e-02, 4.17680517e-02, 4.36635166e-02],\n",
       "        [8.95056278e-02, 4.12015542e-02, 4.08276767e-02],\n",
       "        [8.62012431e-02, 4.05037403e-02, 3.81614491e-02],\n",
       "        [8.30350146e-02, 3.96651477e-02, 3.56458202e-02],\n",
       "        [8.00209567e-02, 3.88502702e-02, 3.32788192e-02],\n",
       "        [7.71579072e-02, 3.79825830e-02, 3.10309995e-02],\n",
       "        [7.44438171e-02, 3.71419936e-02, 2.89015193e-02],\n",
       "        [7.18615577e-02, 3.62189561e-02, 2.68686172e-02]],\n",
       "\n",
       "       [[8.97542536e-02, 5.30690402e-02, 3.93353291e-02],\n",
       "        [8.57370421e-02, 5.31239510e-02, 3.69003341e-02],\n",
       "        [8.20580423e-02, 5.09914607e-02, 3.42493430e-02],\n",
       "        [7.85702169e-02, 4.87490967e-02, 3.17630656e-02],\n",
       "        [7.55632371e-02, 4.70497608e-02, 2.95093860e-02],\n",
       "        [7.28988200e-02, 4.59571630e-02, 2.74313018e-02],\n",
       "        [7.03634024e-02, 4.52398956e-02, 2.54404545e-02],\n",
       "        [6.78376332e-02, 4.43837047e-02, 2.34901514e-02],\n",
       "        [6.53617531e-02, 4.33513150e-02, 2.16090754e-02],\n",
       "        [6.30166531e-02, 4.21974063e-02, 1.98114514e-02],\n",
       "        [6.08243048e-02, 4.09959108e-02, 1.81028508e-02],\n",
       "        [5.87835386e-02, 3.99650559e-02, 1.64736025e-02]],\n",
       "\n",
       "       [[1.55125484e-01, 3.07708114e-01, 6.46282136e-02],\n",
       "        [1.55675218e-01, 3.15434337e-01, 5.78426011e-02],\n",
       "        [1.60953835e-01, 3.37623149e-01, 4.73847464e-02],\n",
       "        [1.60739094e-01, 3.54169518e-01, 3.79265621e-02],\n",
       "        [1.56722546e-01, 3.71839881e-01, 2.75646560e-02],\n",
       "        [1.50278747e-01, 3.88453960e-01, 1.82418451e-02],\n",
       "        [1.42889202e-01, 4.01489735e-01, 9.10921022e-03],\n",
       "        [1.34746283e-01, 4.09915775e-01, 2.19766051e-04],\n",
       "        [1.25718474e-01, 4.12780762e-01, 0.00000000e+00],\n",
       "        [1.17908731e-01, 4.12780583e-01, 0.00000000e+00],\n",
       "        [1.09311640e-01, 4.04841810e-01, 0.00000000e+00],\n",
       "        [1.02223165e-01, 3.95944864e-01, 0.00000000e+00]],\n",
       "\n",
       "       [[1.99041069e-01, 1.90971658e-01, 1.79918572e-01],\n",
       "        [2.21324787e-01, 2.08890945e-01, 1.59855679e-01],\n",
       "        [2.28996038e-01, 2.10703999e-01, 1.45337492e-01],\n",
       "        [2.24072605e-01, 2.08427951e-01, 1.33511022e-01],\n",
       "        [2.16853872e-01, 2.09751293e-01, 1.22837141e-01],\n",
       "        [2.09390938e-01, 2.11495414e-01, 1.13201633e-01],\n",
       "        [2.01297462e-01, 2.12675318e-01, 1.04544766e-01],\n",
       "        [1.92184821e-01, 2.11739674e-01, 9.69436392e-02],\n",
       "        [1.82556272e-01, 2.08603054e-01, 9.02308598e-02],\n",
       "        [1.72831327e-01, 2.03095689e-01, 8.42845440e-02],\n",
       "        [1.64284214e-01, 1.99629650e-01, 7.89006799e-02],\n",
       "        [1.56350970e-01, 1.96098343e-01, 7.40344226e-02]],\n",
       "\n",
       "       [[6.67466968e-02, 1.45742476e-01, 1.50084384e-02],\n",
       "        [6.24605156e-02, 1.50652215e-01, 1.15512870e-02],\n",
       "        [5.31845614e-02, 1.48613200e-01, 7.78988376e-03],\n",
       "        [4.68243957e-02, 1.47783175e-01, 4.02284414e-03],\n",
       "        [4.27277572e-02, 1.46479025e-01, 3.79886478e-04],\n",
       "        [3.86060104e-02, 1.43663704e-01, 0.00000000e+00],\n",
       "        [3.41811851e-02, 1.40033677e-01, 0.00000000e+00],\n",
       "        [2.94577107e-02, 1.35931209e-01, 0.00000000e+00],\n",
       "        [2.49708891e-02, 1.31815553e-01, 0.00000000e+00],\n",
       "        [2.12163478e-02, 1.28630206e-01, 0.00000000e+00],\n",
       "        [1.80603266e-02, 1.25394687e-01, 0.00000000e+00],\n",
       "        [1.54636651e-02, 1.22775450e-01, 0.00000000e+00]],\n",
       "\n",
       "       [[6.87106922e-02, 1.69531833e-02, 1.23167895e-02],\n",
       "        [6.49750307e-02, 1.72709581e-02, 1.14315972e-02],\n",
       "        [6.08210266e-02, 1.74435060e-02, 1.06476210e-02],\n",
       "        [5.77843972e-02, 1.71160977e-02, 9.85222682e-03],\n",
       "        [5.53449951e-02, 1.59387421e-02, 9.05429199e-03],\n",
       "        [5.32540157e-02, 1.44768339e-02, 8.38096067e-03],\n",
       "        [5.15380651e-02, 1.35773104e-02, 7.83305988e-03],\n",
       "        [5.01426309e-02, 1.35329124e-02, 7.34288618e-03],\n",
       "        [4.87925410e-02, 1.31335799e-02, 6.75978139e-03],\n",
       "        [4.74959277e-02, 1.27140488e-02, 6.18551299e-03],\n",
       "        [4.63770404e-02, 1.24162082e-02, 5.64371422e-03],\n",
       "        [4.54369485e-02, 1.24401096e-02, 5.12496009e-03]]])"
      ]
     },
     "execution_count": 16,
     "metadata": {},
     "output_type": "execute_result"
    }
   ],
   "source": [
    "x_tst = data_tst[:, :12]\n",
    "predicts = np.zeros((x_tst.shape[0], 0, x_tst.shape[2]))\n",
    "\n",
    "for i in range(12):\n",
    "    x = np.concatenate((x_tst[:, i:], predicts), axis=1)\n",
    "    x_t = torch.from_numpy(x).float()\n",
    "    pred = model(x_t).detach().numpy()\n",
    "    last_pred = pred[:, -1:]  # Нас интересует только последний месяц\n",
    "    predicts = np.concatenate((predicts, last_pred), axis=1)\n",
    "predicts"
   ]
  },
  {
   "cell_type": "code",
   "execution_count": 17,
   "id": "bf48b810-9255-49ae-b6f4-461f90d5a881",
   "metadata": {},
   "outputs": [
    {
     "data": {
      "image/png": "[encoded data removed]",
      "text/plain": [
       "<Figure size 1000x600 with 4 Axes>"
      ]
     },
     "metadata": {},
     "output_type": "display_data"
    }
   ],
   "source": [
    "import matplotlib.pyplot as plt\n",
    "\n",
    "plt.figure(figsize=(10, 6))\n",
    "for iapi in range(4):\n",
    "    plt.subplot(2, 2, iapi+1)\n",
    "    plt.plot(np.arange(x_tst.shape[1]), x_tst[iapi, :, 0], label='Actual')\n",
    "    plt.plot(np.arange(predicts.shape[1])+x_tst.shape[1], predicts[iapi, :, 0], label='Prediction')\n",
    "    plt.legend()\n",
    "plt.show()"
   ]
  },
  {
   "cell_type": "markdown",
   "id": "09fa7262-6406-4552-9551-a5336a73402f",
   "metadata": {},
   "source": [
    "### task3"
   ]
  },
  {
   "cell_type": "code",
   "execution_count": 40,
   "id": "74542635-6e02-4719-9a72-1a26994887d2",
   "metadata": {},
   "outputs": [
    {
     "name": "stdout",
     "output_type": "stream",
     "text": [
      "4937 предложений\n"
     ]
    }
   ],
   "source": [
    "with codecs.open('sapiens.txt', encoding='utf-8', mode='r') as f:    \n",
    "    docs_part = f.readlines()\n",
    "\n",
    "sentences_part = [[word for word in sent.lower().split()] for sent in docs]\n",
    "print(len(sentences), 'предложений')"
   ]
  },
  {
   "cell_type": "code",
   "execution_count": 41,
   "id": "fa75706a-b2de-4181-bce3-12e95f0ebb1c",
   "metadata": {},
   "outputs": [],
   "source": [
    "sentences_part = [sent for sent in sentences_part if len(sent) != 0]"
   ]
  },
  {
   "cell_type": "code",
   "execution_count": 42,
   "id": "160c4f2e-c0bd-4aa6-b79e-0c95701df12a",
   "metadata": {},
   "outputs": [
    {
     "data": {
      "text/plain": [
       "ModeResult(mode=12, count=21)"
      ]
     },
     "execution_count": 42,
     "metadata": {},
     "output_type": "execute_result"
    }
   ],
   "source": [
    "sentences_lens = np.array(list(map(sum, [map(len, sent) for sent in sentences_part])))\n",
    "st.mode(sentences_lens)"
   ]
  },
  {
   "cell_type": "code",
   "execution_count": 43,
   "id": "641f840e-2248-49fb-8a18-dfaf1d721c6f",
   "metadata": {},
   "outputs": [
    {
     "data": {
      "text/plain": [
       "array([['i', 'm', 'a', 'g', 'e', 'c', 'r', 'e', 'd', 'i', 't', 's'],\n",
       "       ['e', 'x', 't', 'i', 'n', 'c', 't', 'i', 'o', 'n', 'o', 'f'],\n",
       "       ['a', 'r', 'a', 'c', 'e', 'o', 'f', 'c', 'o', 'o', 'k', 's'],\n",
       "       ['s', 'i', 'g', 'n', 'e', 'd', 'k', 'u', 's', 'h', 'i', 'm'],\n",
       "       ['a', 'n', 'd', 'h', 'e', 'c', 'a', 'n', 'e', 'd', 'm', 'e'],\n",
       "       ['a', 'n', 'd', 'h', 'e', 'c', 'a', 'n', 'e', 'd', 'm', 'e'],\n",
       "       ['a', 'n', 'd', 'h', 'e', 'c', 'a', 'n', 'e', 'd', 'm', 'e'],\n",
       "       ['a', 'n', 'd', 'h', 'e', 'c', 'a', 'n', 'e', 'd', 'm', 'e'],\n",
       "       ['a', 'n', 'd', 'h', 'e', 'c', 'a', 'n', 'e', 'd', 'm', 'e'],\n",
       "       ['a', 'n', 'd', 'h', 'e', 'c', 'a', 'n', 'e', 'd', 'm', 'e'],\n",
       "       ['s', 'e', 'x', 'a', 'n', 'd', 'g', 'e', 'n', 'd', 'e', 'r'],\n",
       "       ['o', 'f', 'm', 'i', 'c', 'e', 'a', 'n', 'd', 'm', 'e', 'n'],\n",
       "       ['i', 'm', 'a', 'g', 'e', 'c', 'r', 'e', 'd', 'i', 't', 's'],\n",
       "       ['v', 'i', 's', 'u', 'a', 'l', 'c', 'o', 'r', 'b', 'i', 's'],\n",
       "       ['v', 'i', 's', 'u', 'a', 'l', 'c', 'o', 'r', 'b', 'i', 's'],\n",
       "       ['v', 'i', 's', 'u', 'a', 'l', 'c', 'o', 'r', 'b', 'i', 's'],\n",
       "       ['v', 'i', 's', 'u', 'a', 'l', 'c', 'o', 'r', 'b', 'i', 's'],\n",
       "       ['v', 'i', 's', 'u', 'a', 'l', 'c', 'o', 'r', 'b', 'i', 's'],\n",
       "       ['v', 'i', 's', 'u', 'a', 'l', 'c', 'o', 'r', 'b', 'i', 's'],\n",
       "       ['v', 'i', 's', 'u', 'a', 'l', 'c', 'o', 'r', 'b', 'i', 's'],\n",
       "       ['v', 'i', 's', 'u', 'a', 'l', 'c', 'o', 'r', 'b', 'i', 's']],\n",
       "      dtype='<U1')"
      ]
     },
     "execution_count": 43,
     "metadata": {},
     "output_type": "execute_result"
    }
   ],
   "source": [
    "sentences_part_same = [sent for sent in sentences_part if sum(map(len, sent)) == 12]\n",
    "sentences_part_same = np.array([list(''.join(sent)) for sent in sentences_part_same])\n",
    "sentences_part_same"
   ]
  },
  {
   "cell_type": "code",
   "execution_count": 54,
   "id": "da3330a0-50e1-40f0-a662-49c152e1d418",
   "metadata": {},
   "outputs": [
    {
     "data": {
      "text/plain": [
       "{'a': [1, 0, 0, 0, 0, 0, 0, 0, 0, 0, 0, 0, 0, 0, 0, 0, 0, 0, 0, 0],\n",
       " 'b': [0, 1, 0, 0, 0, 0, 0, 0, 0, 0, 0, 0, 0, 0, 0, 0, 0, 0, 0, 0],\n",
       " 'c': [0, 0, 1, 0, 0, 0, 0, 0, 0, 0, 0, 0, 0, 0, 0, 0, 0, 0, 0, 0],\n",
       " 'd': [0, 0, 0, 1, 0, 0, 0, 0, 0, 0, 0, 0, 0, 0, 0, 0, 0, 0, 0, 0],\n",
       " 'e': [0, 0, 0, 0, 1, 0, 0, 0, 0, 0, 0, 0, 0, 0, 0, 0, 0, 0, 0, 0],\n",
       " 'f': [0, 0, 0, 0, 0, 1, 0, 0, 0, 0, 0, 0, 0, 0, 0, 0, 0, 0, 0, 0],\n",
       " 'g': [0, 0, 0, 0, 0, 0, 1, 0, 0, 0, 0, 0, 0, 0, 0, 0, 0, 0, 0, 0],\n",
       " 'h': [0, 0, 0, 0, 0, 0, 0, 1, 0, 0, 0, 0, 0, 0, 0, 0, 0, 0, 0, 0],\n",
       " 'i': [0, 0, 0, 0, 0, 0, 0, 0, 1, 0, 0, 0, 0, 0, 0, 0, 0, 0, 0, 0],\n",
       " 'k': [0, 0, 0, 0, 0, 0, 0, 0, 0, 1, 0, 0, 0, 0, 0, 0, 0, 0, 0, 0],\n",
       " 'l': [0, 0, 0, 0, 0, 0, 0, 0, 0, 0, 1, 0, 0, 0, 0, 0, 0, 0, 0, 0],\n",
       " 'm': [0, 0, 0, 0, 0, 0, 0, 0, 0, 0, 0, 1, 0, 0, 0, 0, 0, 0, 0, 0],\n",
       " 'n': [0, 0, 0, 0, 0, 0, 0, 0, 0, 0, 0, 0, 1, 0, 0, 0, 0, 0, 0, 0],\n",
       " 'o': [0, 0, 0, 0, 0, 0, 0, 0, 0, 0, 0, 0, 0, 1, 0, 0, 0, 0, 0, 0],\n",
       " 'r': [0, 0, 0, 0, 0, 0, 0, 0, 0, 0, 0, 0, 0, 0, 1, 0, 0, 0, 0, 0],\n",
       " 's': [0, 0, 0, 0, 0, 0, 0, 0, 0, 0, 0, 0, 0, 0, 0, 1, 0, 0, 0, 0],\n",
       " 't': [0, 0, 0, 0, 0, 0, 0, 0, 0, 0, 0, 0, 0, 0, 0, 0, 1, 0, 0, 0],\n",
       " 'u': [0, 0, 0, 0, 0, 0, 0, 0, 0, 0, 0, 0, 0, 0, 0, 0, 0, 1, 0, 0],\n",
       " 'v': [0, 0, 0, 0, 0, 0, 0, 0, 0, 0, 0, 0, 0, 0, 0, 0, 0, 0, 1, 0],\n",
       " 'x': [0, 0, 0, 0, 0, 0, 0, 0, 0, 0, 0, 0, 0, 0, 0, 0, 0, 0, 0, 1]}"
      ]
     },
     "execution_count": 54,
     "metadata": {},
     "output_type": "execute_result"
    }
   ],
   "source": [
    "np.unique(sentences_part_same)\n",
    "alphabet = {}\n",
    "for i, letter in enumerate(np.unique(sentences_part_same)):\n",
    "    arr = [0] * len(np.unique(sentences_part_same))\n",
    "    arr[i] = 1\n",
    "    alphabet[letter] = arr\n",
    "alphabet"
   ]
  },
  {
   "cell_type": "code",
   "execution_count": 55,
   "id": "d04e7f32-b43b-4c91-8ccf-c1f466efdb8c",
   "metadata": {},
   "outputs": [],
   "source": [
    "sent_list = np.ndarray.tolist(sentences_part_same)\n",
    "for i in range(len(sent_list)):\n",
    "    for j in range(len(sent_list[0])):\n",
    "        sent_list[i][j] = alphabet[sent_list[i][j]]"
   ]
  },
  {
   "cell_type": "code",
   "execution_count": 57,
   "id": "c2c404f7-6bb5-4d0e-93d3-b407f4955072",
   "metadata": {},
   "outputs": [
    {
     "data": {
      "text/plain": [
       "(21, 12, 20)"
      ]
     },
     "execution_count": 57,
     "metadata": {},
     "output_type": "execute_result"
    }
   ],
   "source": [
    "sent_arr = np.array(sent_list)\n",
    "sent_arr.shape"
   ]
  },
  {
   "cell_type": "markdown",
   "id": "04a0248b-2852-4010-ba57-1602012d88d4",
   "metadata": {},
   "source": [
    "### Task 4"
   ]
  },
  {
   "cell_type": "code",
   "execution_count": null,
   "id": "3a292099-63ba-4fe7-ab7f-6b89abf6a5ff",
   "metadata": {},
   "outputs": [],
   "source": []
  }
 ],
 "metadata": {
  "kernelspec": {
   "display_name": "Python 3 (ipykernel)",
   "language": "python",
   "name": "python3"
  },
  "language_info": {
   "codemirror_mode": {
    "name": "ipython",
    "version": 3
   },
   "file_extension": ".py",
   "mimetype": "text/x-python",
   "name": "python",
   "nbconvert_exporter": "python",
   "pygments_lexer": "ipython3",
   "version": "3.10.7"
  }
 },
 "nbformat": 4,
 "nbformat_minor": 5
}
